{
 "cells": [
  {
   "cell_type": "markdown",
   "id": "359d52e6",
   "metadata": {},
   "source": [
    "### Installing the library"
   ]
  },
  {
   "cell_type": "code",
   "execution_count": 1,
   "id": "81331881",
   "metadata": {},
   "outputs": [
    {
     "name": "stdout",
     "output_type": "stream",
     "text": [
      "Collecting psycopg2\n",
      "  Downloading psycopg2-2.9.9-cp38-cp38-win_amd64.whl (1.2 MB)\n",
      "Installing collected packages: psycopg2\n",
      "Successfully installed psycopg2-2.9.9\n"
     ]
    }
   ],
   "source": [
    "!pip install psycopg2"
   ]
  },
  {
   "cell_type": "markdown",
   "id": "9c6bffa7",
   "metadata": {},
   "source": [
    "#### Loading the library"
   ]
  },
  {
   "cell_type": "code",
   "execution_count": 2,
   "id": "90e15ade",
   "metadata": {},
   "outputs": [],
   "source": [
    "import psycopg2"
   ]
  },
  {
   "cell_type": "markdown",
   "id": "315b26d1",
   "metadata": {},
   "source": [
    "### Creating a Connection to the Database"
   ]
  },
  {
   "cell_type": "code",
   "execution_count": 3,
   "id": "555759fb",
   "metadata": {},
   "outputs": [
    {
     "name": "stdout",
     "output_type": "stream",
     "text": [
      "Error: Could not make connection to the Postgres database\n",
      "connection to server at \"localhost\" (::1), port 5432 failed: FATAL:  password authentication failed for user \"postgres\"\n",
      "\n"
     ]
    }
   ],
   "source": [
    "try: \n",
    "    conn = psycopg2.connect(\"host=localhost dbname=postgres user=postgres password=root\")\n",
    "except psycopg2.Error as e: \n",
    "    print(\"Error: Could not make connection to the Postgres database\")\n",
    "    print(e)"
   ]
  },
  {
   "cell_type": "code",
   "execution_count": null,
   "id": "afd6854c",
   "metadata": {},
   "outputs": [],
   "source": []
  }
 ],
 "metadata": {
  "kernelspec": {
   "display_name": "Python 3",
   "language": "python",
   "name": "python3"
  },
  "language_info": {
   "codemirror_mode": {
    "name": "ipython",
    "version": 3
   },
   "file_extension": ".py",
   "mimetype": "text/x-python",
   "name": "python",
   "nbconvert_exporter": "python",
   "pygments_lexer": "ipython3",
   "version": "3.8.8"
  }
 },
 "nbformat": 4,
 "nbformat_minor": 5
}
