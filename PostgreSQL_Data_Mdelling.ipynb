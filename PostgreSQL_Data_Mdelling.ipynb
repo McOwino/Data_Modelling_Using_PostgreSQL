{
 "cells": [
  {
   "cell_type": "markdown",
   "id": "72362b28",
   "metadata": {},
   "source": [
    "### Installing the library"
   ]
  },
  {
   "cell_type": "code",
   "execution_count": null,
   "id": "13117e17",
   "metadata": {},
   "outputs": [],
   "source": [
    "!pip install psycopg2"
   ]
  },
  {
   "cell_type": "markdown",
   "id": "15aaf980",
   "metadata": {},
   "source": [
    "#### Loading the library"
   ]
  },
  {
   "cell_type": "code",
   "execution_count": null,
   "id": "40289c4e",
   "metadata": {},
   "outputs": [],
   "source": [
    "import psycopg2"
   ]
  },
  {
   "cell_type": "markdown",
   "id": "6e80f08c",
   "metadata": {},
   "source": [
    "### Creating a Connection to the Database"
   ]
  },
  {
   "cell_type": "code",
   "execution_count": null,
   "id": "7b9a9440",
   "metadata": {},
   "outputs": [],
   "source": [
    "try: \n",
    "    conn = psycopg2.connect(\"host=localhost dbname=postgres user=postgres password=root\")\n",
    "except psycopg2.Error as e: \n",
    "    print(\"Error: Could not make connection to the Postgres database\")\n",
    "    print(e)"
   ]
  },
  {
   "cell_type": "markdown",
   "id": "32e876f5",
   "metadata": {},
   "source": [
    "#### Using the connection to get a cursor for executing queries"
   ]
  },
  {
   "cell_type": "code",
   "execution_count": null,
   "id": "803e676c",
   "metadata": {},
   "outputs": [],
   "source": [
    "try: \n",
    "    cur = conn.cursor()\n",
    "except psycopg2.Error as e: \n",
    "    print(\"Error: Could not get curser to the Database\")\n",
    "    print(e)"
   ]
  },
  {
   "cell_type": "markdown",
   "id": "d47a0882",
   "metadata": {},
   "source": [
    "#### Set automatic commit to be true so that each action is committed without having to call conn.commit() after each command."
   ]
  },
  {
   "cell_type": "code",
   "execution_count": null,
   "id": "be4bd383",
   "metadata": {},
   "outputs": [],
   "source": [
    "conn.set_session(autocommit=True)"
   ]
  },
  {
   "cell_type": "markdown",
   "id": "9f44a4ac",
   "metadata": {},
   "source": [
    "### Create the Database to do the work in"
   ]
  },
  {
   "cell_type": "code",
   "execution_count": null,
   "id": "99131f85",
   "metadata": {},
   "outputs": [],
   "source": [
    "try: \n",
    "    cur.execute(\"create database myfirstdb\")\n",
    "except psycopg2.Error as e:\n",
    "    print(e)"
   ]
  },
  {
   "cell_type": "code",
   "execution_count": null,
   "id": "6c56b5e5",
   "metadata": {},
   "outputs": [],
   "source": []
  },
  {
   "cell_type": "markdown",
   "id": "192c5a9f",
   "metadata": {},
   "source": [
    "#### Add the database name in the connect statement. Let's close our connection to the default database, reconnect to the Udacity database, and get a new cursor"
   ]
  },
  {
   "cell_type": "code",
   "execution_count": null,
   "id": "b02f17c0",
   "metadata": {},
   "outputs": [],
   "source": []
  },
  {
   "cell_type": "code",
   "execution_count": null,
   "id": "f2fea143",
   "metadata": {},
   "outputs": [],
   "source": []
  },
  {
   "cell_type": "code",
   "execution_count": null,
   "id": "f1194cd0",
   "metadata": {},
   "outputs": [],
   "source": []
  },
  {
   "cell_type": "code",
   "execution_count": null,
   "id": "ba2f4ffc",
   "metadata": {},
   "outputs": [],
   "source": []
  },
  {
   "cell_type": "code",
   "execution_count": null,
   "id": "c19a1452",
   "metadata": {},
   "outputs": [],
   "source": []
  }
 ],
 "metadata": {
  "kernelspec": {
   "display_name": "Python 3",
   "language": "python",
   "name": "python3"
  },
  "language_info": {
   "codemirror_mode": {
    "name": "ipython",
    "version": 3
   },
   "file_extension": ".py",
   "mimetype": "text/x-python",
   "name": "python",
   "nbconvert_exporter": "python",
   "pygments_lexer": "ipython3",
   "version": "3.8.8"
  }
 },
 "nbformat": 4,
 "nbformat_minor": 5
}
